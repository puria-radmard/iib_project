{
 "cells": [
  {
   "cell_type": "code",
   "execution_count": 1,
   "source": [
    "import torch\n",
    "import torch.nn as nn\n",
    "import torchvision\n",
    "from torchvision import models\n",
    "from torchvision import transforms\n",
    "from tqdm import tqdm\n",
    "from torch.utils.data import DataLoader"
   ],
   "outputs": [],
   "metadata": {}
  },
  {
   "cell_type": "code",
   "execution_count": 2,
   "source": [
    "# Load an empty resnet from torchvision\n",
    "model = models.resnet50(pretrained = False)\n",
    "\n",
    "# Make the final hidden layer an identity\n",
    "model.fc = nn.Identity()"
   ],
   "outputs": [],
   "metadata": {}
  },
  {
   "cell_type": "code",
   "execution_count": 3,
   "source": [
    "# Path to downloaded model\n",
    "path = \"/home/alta/BLTSpeaking/exp-pr450/models/resnet50_byol_imagenet2012.pth.tar\"\n",
    "\n",
    "# Load pretrained byol model\n",
    "checkpoint = torch.load(path, map_location = torch.device('cpu'))\n",
    "checkpoint = checkpoint['online_backbone']"
   ],
   "outputs": [],
   "metadata": {}
  },
  {
   "cell_type": "code",
   "execution_count": 4,
   "source": [
    "# Clean up model state dictionary\n",
    "state_dict = {key[7:]: value for key, value in checkpoint.items()}\n",
    "\n",
    "# Load model from pretrained byol\n",
    "model.load_state_dict(state_dict, strict=True)\n",
    "model = model.eval()"
   ],
   "outputs": [],
   "metadata": {}
  },
  {
   "cell_type": "code",
   "execution_count": 5,
   "source": [
    "# Create custom transform\n",
    "transform = transforms.Compose([\n",
    "    transforms.ToTensor(),\n",
    "    transforms.Lambda(lambda x: x.unsqueeze(0)),\n",
    "    transforms.Lambda(lambda x: nn.functional.interpolate(x, size = 224, mode='bicubic', align_corners=True)),\n",
    "    transforms.Lambda(lambda x: x.squeeze(0)),\n",
    "    transforms.Normalize((0.485, 0.456, 0.406), (0.229, 0.224, 0.225)),\n",
    "])\n",
    "\n",
    "dataset = torchvision.datasets.CIFAR100(root = \"/home/alta/BLTSpeaking/exp-pr450/data\", train = True, transform = transform, download = True)"
   ],
   "outputs": [
    {
     "output_type": "stream",
     "name": "stdout",
     "text": [
      "Files already downloaded and verified\n"
     ]
    }
   ],
   "metadata": {}
  },
  {
   "cell_type": "code",
   "execution_count": 6,
   "source": [
    "N = len(dataset)\n",
    "B = 128\n",
    "\n",
    "embeddings = torch.empty(0, 2048)\n",
    "labels = torch.empty(0)\n",
    "\n",
    "trainloader = DataLoader(dataset, batch_size=B, drop_last=False, shuffle=False)\n",
    "\n",
    "with torch.no_grad():\n",
    "    for i, (x, y) in enumerate(trainloader):\n",
    "        assert all(y == torch.tensor(dataset.targets[i*B:(i+1)*B]))\n",
    "        embeddings = torch.cat([embeddings, model(x)])\n",
    "        labels = torch.cat([labels, y])\n",
    "        print(f'{i}/{len(trainloader)} batches complete')"
   ],
   "outputs": [
    {
     "output_type": "stream",
     "name": "stdout",
     "text": [
      "0/391 batches complete\n",
      "1/391 batches complete\n",
      "2/391 batches complete\n",
      "3/391 batches complete\n",
      "4/391 batches complete\n",
      "5/391 batches complete\n",
      "6/391 batches complete\n",
      "7/391 batches complete\n",
      "8/391 batches complete\n",
      "9/391 batches complete\n",
      "10/391 batches complete\n",
      "11/391 batches complete\n",
      "12/391 batches complete\n",
      "13/391 batches complete\n",
      "14/391 batches complete\n",
      "15/391 batches complete\n",
      "16/391 batches complete\n",
      "17/391 batches complete\n",
      "18/391 batches complete\n",
      "19/391 batches complete\n",
      "20/391 batches complete\n",
      "21/391 batches complete\n",
      "22/391 batches complete\n",
      "23/391 batches complete\n",
      "24/391 batches complete\n",
      "25/391 batches complete\n",
      "26/391 batches complete\n",
      "27/391 batches complete\n",
      "28/391 batches complete\n",
      "29/391 batches complete\n",
      "30/391 batches complete\n",
      "31/391 batches complete\n",
      "32/391 batches complete\n",
      "33/391 batches complete\n"
     ]
    }
   ],
   "metadata": {}
  },
  {
   "cell_type": "code",
   "execution_count": 59,
   "source": [
    "torch.save(embeddings, \"/home/alta/BLTSpeaking/exp-pr450/data/byol_embeddings_100.pkl\")"
   ],
   "outputs": [],
   "metadata": {}
  },
  {
   "cell_type": "code",
   "execution_count": null,
   "source": [],
   "outputs": [],
   "metadata": {}
  }
 ],
 "metadata": {
  "orig_nbformat": 4,
  "language_info": {
   "name": "python",
   "version": "3.7.10",
   "mimetype": "text/x-python",
   "codemirror_mode": {
    "name": "ipython",
    "version": 3
   },
   "pygments_lexer": "ipython3",
   "nbconvert_exporter": "python",
   "file_extension": ".py"
  },
  "kernelspec": {
   "name": "python3",
   "display_name": "Python 3.7.10 64-bit ('easter_env': conda)"
  },
  "interpreter": {
   "hash": "b82dd80dfe485b8bdd67aa9cbed492fdeab7781e0fca5376dee7aee7a97a58dc"
  }
 },
 "nbformat": 4,
 "nbformat_minor": 2
}